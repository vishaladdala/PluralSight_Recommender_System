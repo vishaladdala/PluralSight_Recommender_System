{
 "cells": [
  {
   "cell_type": "code",
   "execution_count": 1,
   "metadata": {
    "collapsed": true
   },
   "outputs": [],
   "source": [
    "#Importing the required libraries\n",
    "import pandas as pd\n",
    "import numpy as np\n",
    "import sklearn\n",
    "from sklearn.decomposition import TruncatedSVD"
   ]
  },
  {
   "cell_type": "code",
   "execution_count": 2,
   "metadata": {
    "collapsed": true
   },
   "outputs": [],
   "source": [
    "frame = pd.read_csv('/Users/vishaladdala/Desktop/GooglePrep/data_files_ml_engineer/user_interests.csv')"
   ]
  },
  {
   "cell_type": "code",
   "execution_count": 3,
   "metadata": {},
   "outputs": [
    {
     "data": {
      "text/html": [
       "<div>\n",
       "<style>\n",
       "    .dataframe thead tr:only-child th {\n",
       "        text-align: right;\n",
       "    }\n",
       "\n",
       "    .dataframe thead th {\n",
       "        text-align: left;\n",
       "    }\n",
       "\n",
       "    .dataframe tbody tr th {\n",
       "        vertical-align: top;\n",
       "    }\n",
       "</style>\n",
       "<table border=\"1\" class=\"dataframe\">\n",
       "  <thead>\n",
       "    <tr style=\"text-align: right;\">\n",
       "      <th></th>\n",
       "      <th>user_handle</th>\n",
       "      <th>interest_tag</th>\n",
       "      <th>date_followed</th>\n",
       "    </tr>\n",
       "  </thead>\n",
       "  <tbody>\n",
       "    <tr>\n",
       "      <th>0</th>\n",
       "      <td>1</td>\n",
       "      <td>mvc-scaffolding</td>\n",
       "      <td>2017-06-27 16:26:52</td>\n",
       "    </tr>\n",
       "    <tr>\n",
       "      <th>1</th>\n",
       "      <td>1</td>\n",
       "      <td>mvc2</td>\n",
       "      <td>2017-06-27 16:26:52</td>\n",
       "    </tr>\n",
       "    <tr>\n",
       "      <th>2</th>\n",
       "      <td>1</td>\n",
       "      <td>mvc-html-helpers</td>\n",
       "      <td>2017-06-27 16:26:52</td>\n",
       "    </tr>\n",
       "    <tr>\n",
       "      <th>3</th>\n",
       "      <td>1</td>\n",
       "      <td>mvc4-ioc</td>\n",
       "      <td>2017-06-27 16:26:52</td>\n",
       "    </tr>\n",
       "    <tr>\n",
       "      <th>4</th>\n",
       "      <td>1</td>\n",
       "      <td>mvc-testing</td>\n",
       "      <td>2017-06-27 16:26:52</td>\n",
       "    </tr>\n",
       "  </tbody>\n",
       "</table>\n",
       "</div>"
      ],
      "text/plain": [
       "   user_handle      interest_tag        date_followed\n",
       "0            1   mvc-scaffolding  2017-06-27 16:26:52\n",
       "1            1              mvc2  2017-06-27 16:26:52\n",
       "2            1  mvc-html-helpers  2017-06-27 16:26:52\n",
       "3            1          mvc4-ioc  2017-06-27 16:26:52\n",
       "4            1       mvc-testing  2017-06-27 16:26:52"
      ]
     },
     "execution_count": 3,
     "metadata": {},
     "output_type": "execute_result"
    }
   ],
   "source": [
    "frame.head()"
   ]
  },
  {
   "cell_type": "code",
   "execution_count": 4,
   "metadata": {},
   "outputs": [
    {
     "data": {
      "text/plain": [
       "(297526, 3)"
      ]
     },
     "execution_count": 4,
     "metadata": {},
     "output_type": "execute_result"
    }
   ],
   "source": [
    "frame.shape"
   ]
  },
  {
   "cell_type": "code",
   "execution_count": 5,
   "metadata": {
    "collapsed": true
   },
   "outputs": [],
   "source": [
    "course = pd.read_csv('/Users/vishaladdala/Desktop/GooglePrep/data_files_ml_engineer/course_tags.csv')"
   ]
  },
  {
   "cell_type": "code",
   "execution_count": 6,
   "metadata": {},
   "outputs": [
    {
     "data": {
      "text/html": [
       "<div>\n",
       "<style>\n",
       "    .dataframe thead tr:only-child th {\n",
       "        text-align: right;\n",
       "    }\n",
       "\n",
       "    .dataframe thead th {\n",
       "        text-align: left;\n",
       "    }\n",
       "\n",
       "    .dataframe tbody tr th {\n",
       "        vertical-align: top;\n",
       "    }\n",
       "</style>\n",
       "<table border=\"1\" class=\"dataframe\">\n",
       "  <thead>\n",
       "    <tr style=\"text-align: right;\">\n",
       "      <th></th>\n",
       "      <th>course_id</th>\n",
       "      <th>course_tags</th>\n",
       "    </tr>\n",
       "  </thead>\n",
       "  <tbody>\n",
       "    <tr>\n",
       "      <th>0</th>\n",
       "      <td>12-principles-animation-toon-boom-harmony-1475</td>\n",
       "      <td>2d-animation</td>\n",
       "    </tr>\n",
       "    <tr>\n",
       "      <th>1</th>\n",
       "      <td>2d-racing-game-series-unity-5-1312</td>\n",
       "      <td>game-design</td>\n",
       "    </tr>\n",
       "    <tr>\n",
       "      <th>2</th>\n",
       "      <td>2d-racing-games-unity-volume-2-1286</td>\n",
       "      <td>game-art</td>\n",
       "    </tr>\n",
       "    <tr>\n",
       "      <th>3</th>\n",
       "      <td>2d-racing-games-unity-volume-2-1286</td>\n",
       "      <td>digital-painting</td>\n",
       "    </tr>\n",
       "    <tr>\n",
       "      <th>4</th>\n",
       "      <td>2d-racing-games-unity-volume-2-1286</td>\n",
       "      <td>image-editing</td>\n",
       "    </tr>\n",
       "  </tbody>\n",
       "</table>\n",
       "</div>"
      ],
      "text/plain": [
       "                                        course_id       course_tags\n",
       "0  12-principles-animation-toon-boom-harmony-1475      2d-animation\n",
       "1              2d-racing-game-series-unity-5-1312       game-design\n",
       "2             2d-racing-games-unity-volume-2-1286          game-art\n",
       "3             2d-racing-games-unity-volume-2-1286  digital-painting\n",
       "4             2d-racing-games-unity-volume-2-1286     image-editing"
      ]
     },
     "execution_count": 6,
     "metadata": {},
     "output_type": "execute_result"
    }
   ],
   "source": [
    "course.head()"
   ]
  },
  {
   "cell_type": "code",
   "execution_count": 7,
   "metadata": {
    "collapsed": true
   },
   "outputs": [],
   "source": [
    "course = course.rename(index=str, columns={\"course_tags\": \"interest_tag\"})\n",
    "#renaming the column to perform a join "
   ]
  },
  {
   "cell_type": "code",
   "execution_count": 8,
   "metadata": {},
   "outputs": [
    {
     "data": {
      "text/html": [
       "<div>\n",
       "<style>\n",
       "    .dataframe thead tr:only-child th {\n",
       "        text-align: right;\n",
       "    }\n",
       "\n",
       "    .dataframe thead th {\n",
       "        text-align: left;\n",
       "    }\n",
       "\n",
       "    .dataframe tbody tr th {\n",
       "        vertical-align: top;\n",
       "    }\n",
       "</style>\n",
       "<table border=\"1\" class=\"dataframe\">\n",
       "  <thead>\n",
       "    <tr style=\"text-align: right;\">\n",
       "      <th></th>\n",
       "      <th>course_id</th>\n",
       "      <th>interest_tag</th>\n",
       "    </tr>\n",
       "  </thead>\n",
       "  <tbody>\n",
       "    <tr>\n",
       "      <th>0</th>\n",
       "      <td>12-principles-animation-toon-boom-harmony-1475</td>\n",
       "      <td>2d-animation</td>\n",
       "    </tr>\n",
       "    <tr>\n",
       "      <th>1</th>\n",
       "      <td>2d-racing-game-series-unity-5-1312</td>\n",
       "      <td>game-design</td>\n",
       "    </tr>\n",
       "    <tr>\n",
       "      <th>2</th>\n",
       "      <td>2d-racing-games-unity-volume-2-1286</td>\n",
       "      <td>game-art</td>\n",
       "    </tr>\n",
       "    <tr>\n",
       "      <th>3</th>\n",
       "      <td>2d-racing-games-unity-volume-2-1286</td>\n",
       "      <td>digital-painting</td>\n",
       "    </tr>\n",
       "    <tr>\n",
       "      <th>4</th>\n",
       "      <td>2d-racing-games-unity-volume-2-1286</td>\n",
       "      <td>image-editing</td>\n",
       "    </tr>\n",
       "  </tbody>\n",
       "</table>\n",
       "</div>"
      ],
      "text/plain": [
       "                                        course_id      interest_tag\n",
       "0  12-principles-animation-toon-boom-harmony-1475      2d-animation\n",
       "1              2d-racing-game-series-unity-5-1312       game-design\n",
       "2             2d-racing-games-unity-volume-2-1286          game-art\n",
       "3             2d-racing-games-unity-volume-2-1286  digital-painting\n",
       "4             2d-racing-games-unity-volume-2-1286     image-editing"
      ]
     },
     "execution_count": 8,
     "metadata": {},
     "output_type": "execute_result"
    }
   ],
   "source": [
    "course.head()"
   ]
  },
  {
   "cell_type": "code",
   "execution_count": 9,
   "metadata": {
    "collapsed": true
   },
   "outputs": [],
   "source": [
    "combined_course_data = pd.merge(frame,course,on = 'interest_tag')"
   ]
  },
  {
   "cell_type": "code",
   "execution_count": 10,
   "metadata": {},
   "outputs": [
    {
     "data": {
      "text/html": [
       "<div>\n",
       "<style>\n",
       "    .dataframe thead tr:only-child th {\n",
       "        text-align: right;\n",
       "    }\n",
       "\n",
       "    .dataframe thead th {\n",
       "        text-align: left;\n",
       "    }\n",
       "\n",
       "    .dataframe tbody tr th {\n",
       "        vertical-align: top;\n",
       "    }\n",
       "</style>\n",
       "<table border=\"1\" class=\"dataframe\">\n",
       "  <thead>\n",
       "    <tr style=\"text-align: right;\">\n",
       "      <th></th>\n",
       "      <th>user_handle</th>\n",
       "      <th>interest_tag</th>\n",
       "      <th>date_followed</th>\n",
       "      <th>course_id</th>\n",
       "    </tr>\n",
       "  </thead>\n",
       "  <tbody>\n",
       "    <tr>\n",
       "      <th>0</th>\n",
       "      <td>1</td>\n",
       "      <td>mvc-scaffolding</td>\n",
       "      <td>2017-06-27 16:26:52</td>\n",
       "      <td>mvc-scaffolding</td>\n",
       "    </tr>\n",
       "    <tr>\n",
       "      <th>1</th>\n",
       "      <td>1</td>\n",
       "      <td>mvc-scaffolding</td>\n",
       "      <td>2017-06-27 16:27:34</td>\n",
       "      <td>mvc-scaffolding</td>\n",
       "    </tr>\n",
       "    <tr>\n",
       "      <th>2</th>\n",
       "      <td>3</td>\n",
       "      <td>mvc-scaffolding</td>\n",
       "      <td>2017-11-21 15:31:37</td>\n",
       "      <td>mvc-scaffolding</td>\n",
       "    </tr>\n",
       "    <tr>\n",
       "      <th>3</th>\n",
       "      <td>15</td>\n",
       "      <td>mvc-scaffolding</td>\n",
       "      <td>2017-07-02 07:53:22</td>\n",
       "      <td>mvc-scaffolding</td>\n",
       "    </tr>\n",
       "    <tr>\n",
       "      <th>4</th>\n",
       "      <td>20</td>\n",
       "      <td>mvc-scaffolding</td>\n",
       "      <td>2017-10-04 10:06:17</td>\n",
       "      <td>mvc-scaffolding</td>\n",
       "    </tr>\n",
       "  </tbody>\n",
       "</table>\n",
       "</div>"
      ],
      "text/plain": [
       "   user_handle     interest_tag        date_followed        course_id\n",
       "0            1  mvc-scaffolding  2017-06-27 16:26:52  mvc-scaffolding\n",
       "1            1  mvc-scaffolding  2017-06-27 16:27:34  mvc-scaffolding\n",
       "2            3  mvc-scaffolding  2017-11-21 15:31:37  mvc-scaffolding\n",
       "3           15  mvc-scaffolding  2017-07-02 07:53:22  mvc-scaffolding\n",
       "4           20  mvc-scaffolding  2017-10-04 10:06:17  mvc-scaffolding"
      ]
     },
     "execution_count": 10,
     "metadata": {},
     "output_type": "execute_result"
    }
   ],
   "source": [
    "combined_course_data.head()"
   ]
  },
  {
   "cell_type": "code",
   "execution_count": 11,
   "metadata": {},
   "outputs": [
    {
     "data": {
      "text/plain": [
       "(7980836, 4)"
      ]
     },
     "execution_count": 11,
     "metadata": {},
     "output_type": "execute_result"
    }
   ],
   "source": [
    "combined_course_data.shape"
   ]
  },
  {
   "cell_type": "code",
   "execution_count": 12,
   "metadata": {
    "collapsed": true
   },
   "outputs": [],
   "source": [
    "assessment_scores = pd.read_csv('/Users/vishaladdala/Desktop/GooglePrep/data_files_ml_engineer/user_assessment_scores.csv')"
   ]
  },
  {
   "cell_type": "code",
   "execution_count": 13,
   "metadata": {},
   "outputs": [
    {
     "data": {
      "text/html": [
       "<div>\n",
       "<style>\n",
       "    .dataframe thead tr:only-child th {\n",
       "        text-align: right;\n",
       "    }\n",
       "\n",
       "    .dataframe thead th {\n",
       "        text-align: left;\n",
       "    }\n",
       "\n",
       "    .dataframe tbody tr th {\n",
       "        vertical-align: top;\n",
       "    }\n",
       "</style>\n",
       "<table border=\"1\" class=\"dataframe\">\n",
       "  <thead>\n",
       "    <tr style=\"text-align: right;\">\n",
       "      <th></th>\n",
       "      <th>user_handle</th>\n",
       "      <th>assessment_tag</th>\n",
       "      <th>user_assessment_date</th>\n",
       "      <th>user_assessment_score</th>\n",
       "    </tr>\n",
       "  </thead>\n",
       "  <tbody>\n",
       "    <tr>\n",
       "      <th>0</th>\n",
       "      <td>7487</td>\n",
       "      <td>angular-js</td>\n",
       "      <td>2017-08-11 19:03:38</td>\n",
       "      <td>134</td>\n",
       "    </tr>\n",
       "    <tr>\n",
       "      <th>1</th>\n",
       "      <td>7487</td>\n",
       "      <td>css</td>\n",
       "      <td>2017-08-11 20:09:56</td>\n",
       "      <td>38</td>\n",
       "    </tr>\n",
       "    <tr>\n",
       "      <th>2</th>\n",
       "      <td>7487</td>\n",
       "      <td>html5</td>\n",
       "      <td>2017-07-31 18:59:37</td>\n",
       "      <td>84</td>\n",
       "    </tr>\n",
       "    <tr>\n",
       "      <th>3</th>\n",
       "      <td>7487</td>\n",
       "      <td>java</td>\n",
       "      <td>2017-07-31 18:49:27</td>\n",
       "      <td>149</td>\n",
       "    </tr>\n",
       "    <tr>\n",
       "      <th>4</th>\n",
       "      <td>7487</td>\n",
       "      <td>javascript</td>\n",
       "      <td>2017-07-31 19:05:03</td>\n",
       "      <td>92</td>\n",
       "    </tr>\n",
       "  </tbody>\n",
       "</table>\n",
       "</div>"
      ],
      "text/plain": [
       "   user_handle assessment_tag user_assessment_date  user_assessment_score\n",
       "0         7487     angular-js  2017-08-11 19:03:38                    134\n",
       "1         7487            css  2017-08-11 20:09:56                     38\n",
       "2         7487          html5  2017-07-31 18:59:37                     84\n",
       "3         7487           java  2017-07-31 18:49:27                    149\n",
       "4         7487     javascript  2017-07-31 19:05:03                     92"
      ]
     },
     "execution_count": 13,
     "metadata": {},
     "output_type": "execute_result"
    }
   ],
   "source": [
    "assessment_scores.head()"
   ]
  },
  {
   "cell_type": "code",
   "execution_count": 14,
   "metadata": {
    "collapsed": true
   },
   "outputs": [],
   "source": [
    "assessment_scores = assessment_scores.rename(index=str, columns={\"assessment_tag\": \"interest_tag\"})"
   ]
  },
  {
   "cell_type": "code",
   "execution_count": 15,
   "metadata": {},
   "outputs": [
    {
     "data": {
      "text/html": [
       "<div>\n",
       "<style>\n",
       "    .dataframe thead tr:only-child th {\n",
       "        text-align: right;\n",
       "    }\n",
       "\n",
       "    .dataframe thead th {\n",
       "        text-align: left;\n",
       "    }\n",
       "\n",
       "    .dataframe tbody tr th {\n",
       "        vertical-align: top;\n",
       "    }\n",
       "</style>\n",
       "<table border=\"1\" class=\"dataframe\">\n",
       "  <thead>\n",
       "    <tr style=\"text-align: right;\">\n",
       "      <th></th>\n",
       "      <th>user_handle</th>\n",
       "      <th>interest_tag</th>\n",
       "      <th>user_assessment_date</th>\n",
       "      <th>user_assessment_score</th>\n",
       "    </tr>\n",
       "  </thead>\n",
       "  <tbody>\n",
       "    <tr>\n",
       "      <th>0</th>\n",
       "      <td>7487</td>\n",
       "      <td>angular-js</td>\n",
       "      <td>2017-08-11 19:03:38</td>\n",
       "      <td>134</td>\n",
       "    </tr>\n",
       "    <tr>\n",
       "      <th>1</th>\n",
       "      <td>7487</td>\n",
       "      <td>css</td>\n",
       "      <td>2017-08-11 20:09:56</td>\n",
       "      <td>38</td>\n",
       "    </tr>\n",
       "    <tr>\n",
       "      <th>2</th>\n",
       "      <td>7487</td>\n",
       "      <td>html5</td>\n",
       "      <td>2017-07-31 18:59:37</td>\n",
       "      <td>84</td>\n",
       "    </tr>\n",
       "    <tr>\n",
       "      <th>3</th>\n",
       "      <td>7487</td>\n",
       "      <td>java</td>\n",
       "      <td>2017-07-31 18:49:27</td>\n",
       "      <td>149</td>\n",
       "    </tr>\n",
       "    <tr>\n",
       "      <th>4</th>\n",
       "      <td>7487</td>\n",
       "      <td>javascript</td>\n",
       "      <td>2017-07-31 19:05:03</td>\n",
       "      <td>92</td>\n",
       "    </tr>\n",
       "  </tbody>\n",
       "</table>\n",
       "</div>"
      ],
      "text/plain": [
       "   user_handle interest_tag user_assessment_date  user_assessment_score\n",
       "0         7487   angular-js  2017-08-11 19:03:38                    134\n",
       "1         7487          css  2017-08-11 20:09:56                     38\n",
       "2         7487        html5  2017-07-31 18:59:37                     84\n",
       "3         7487         java  2017-07-31 18:49:27                    149\n",
       "4         7487   javascript  2017-07-31 19:05:03                     92"
      ]
     },
     "execution_count": 15,
     "metadata": {},
     "output_type": "execute_result"
    }
   ],
   "source": [
    "assessment_scores.head()"
   ]
  },
  {
   "cell_type": "code",
   "execution_count": 16,
   "metadata": {
    "collapsed": true
   },
   "outputs": [],
   "source": [
    "view_times = pd.read_csv('/Users/vishaladdala/Desktop/GooglePrep/data_files_ml_engineer/user_course_views.csv')"
   ]
  },
  {
   "cell_type": "code",
   "execution_count": 17,
   "metadata": {},
   "outputs": [
    {
     "data": {
      "text/html": [
       "<div>\n",
       "<style>\n",
       "    .dataframe thead tr:only-child th {\n",
       "        text-align: right;\n",
       "    }\n",
       "\n",
       "    .dataframe thead th {\n",
       "        text-align: left;\n",
       "    }\n",
       "\n",
       "    .dataframe tbody tr th {\n",
       "        vertical-align: top;\n",
       "    }\n",
       "</style>\n",
       "<table border=\"1\" class=\"dataframe\">\n",
       "  <thead>\n",
       "    <tr style=\"text-align: right;\">\n",
       "      <th></th>\n",
       "      <th>user_handle</th>\n",
       "      <th>view_date</th>\n",
       "      <th>course_id</th>\n",
       "      <th>author_handle</th>\n",
       "      <th>level</th>\n",
       "      <th>view_time_seconds</th>\n",
       "    </tr>\n",
       "  </thead>\n",
       "  <tbody>\n",
       "    <tr>\n",
       "      <th>0</th>\n",
       "      <td>1</td>\n",
       "      <td>2017-06-27</td>\n",
       "      <td>cpt-sp2010-web-designers-branding-intro</td>\n",
       "      <td>875</td>\n",
       "      <td>Beginner</td>\n",
       "      <td>3786</td>\n",
       "    </tr>\n",
       "    <tr>\n",
       "      <th>1</th>\n",
       "      <td>1</td>\n",
       "      <td>2017-06-28</td>\n",
       "      <td>cpt-sp2010-web-designers-branding-intro</td>\n",
       "      <td>875</td>\n",
       "      <td>Beginner</td>\n",
       "      <td>1098</td>\n",
       "    </tr>\n",
       "    <tr>\n",
       "      <th>2</th>\n",
       "      <td>1</td>\n",
       "      <td>2017-06-28</td>\n",
       "      <td>cpt-sp2010-web-designers-css</td>\n",
       "      <td>875</td>\n",
       "      <td>Intermediate</td>\n",
       "      <td>4406</td>\n",
       "    </tr>\n",
       "    <tr>\n",
       "      <th>3</th>\n",
       "      <td>1</td>\n",
       "      <td>2017-07-27</td>\n",
       "      <td>cpt-sp2010-web-designers-css</td>\n",
       "      <td>875</td>\n",
       "      <td>Intermediate</td>\n",
       "      <td>553</td>\n",
       "    </tr>\n",
       "    <tr>\n",
       "      <th>4</th>\n",
       "      <td>1</td>\n",
       "      <td>2017-09-12</td>\n",
       "      <td>aws-certified-solutions-architect-professional</td>\n",
       "      <td>281</td>\n",
       "      <td>Advanced</td>\n",
       "      <td>102</td>\n",
       "    </tr>\n",
       "  </tbody>\n",
       "</table>\n",
       "</div>"
      ],
      "text/plain": [
       "   user_handle   view_date                                       course_id  \\\n",
       "0            1  2017-06-27         cpt-sp2010-web-designers-branding-intro   \n",
       "1            1  2017-06-28         cpt-sp2010-web-designers-branding-intro   \n",
       "2            1  2017-06-28                    cpt-sp2010-web-designers-css   \n",
       "3            1  2017-07-27                    cpt-sp2010-web-designers-css   \n",
       "4            1  2017-09-12  aws-certified-solutions-architect-professional   \n",
       "\n",
       "   author_handle         level  view_time_seconds  \n",
       "0            875      Beginner               3786  \n",
       "1            875      Beginner               1098  \n",
       "2            875  Intermediate               4406  \n",
       "3            875  Intermediate                553  \n",
       "4            281      Advanced                102  "
      ]
     },
     "execution_count": 17,
     "metadata": {},
     "output_type": "execute_result"
    }
   ],
   "source": [
    "view_times.head()"
   ]
  },
  {
   "cell_type": "code",
   "execution_count": 18,
   "metadata": {
    "collapsed": true
   },
   "outputs": [],
   "source": [
    "combined_course_data_sample = combined_course_data.head(500000)"
   ]
  },
  {
   "cell_type": "code",
   "execution_count": 19,
   "metadata": {},
   "outputs": [
    {
     "data": {
      "text/plain": [
       "(500000, 4)"
      ]
     },
     "execution_count": 19,
     "metadata": {},
     "output_type": "execute_result"
    }
   ],
   "source": [
    "combined_course_data_sample.shape"
   ]
  },
  {
   "cell_type": "code",
   "execution_count": 20,
   "metadata": {
    "collapsed": true
   },
   "outputs": [],
   "source": [
    "combined_course_data_with_views = pd.merge(combined_course_data_sample,view_times,on = 'course_id')"
   ]
  },
  {
   "cell_type": "code",
   "execution_count": 21,
   "metadata": {},
   "outputs": [
    {
     "data": {
      "text/html": [
       "<div>\n",
       "<style>\n",
       "    .dataframe thead tr:only-child th {\n",
       "        text-align: right;\n",
       "    }\n",
       "\n",
       "    .dataframe thead th {\n",
       "        text-align: left;\n",
       "    }\n",
       "\n",
       "    .dataframe tbody tr th {\n",
       "        vertical-align: top;\n",
       "    }\n",
       "</style>\n",
       "<table border=\"1\" class=\"dataframe\">\n",
       "  <thead>\n",
       "    <tr style=\"text-align: right;\">\n",
       "      <th></th>\n",
       "      <th>user_handle_x</th>\n",
       "      <th>interest_tag</th>\n",
       "      <th>date_followed</th>\n",
       "      <th>course_id</th>\n",
       "      <th>user_handle_y</th>\n",
       "      <th>view_date</th>\n",
       "      <th>author_handle</th>\n",
       "      <th>level</th>\n",
       "      <th>view_time_seconds</th>\n",
       "    </tr>\n",
       "  </thead>\n",
       "  <tbody>\n",
       "    <tr>\n",
       "      <th>0</th>\n",
       "      <td>1</td>\n",
       "      <td>mvc-scaffolding</td>\n",
       "      <td>2017-06-27 16:26:52</td>\n",
       "      <td>mvc-scaffolding</td>\n",
       "      <td>418</td>\n",
       "      <td>2017-06-21</td>\n",
       "      <td>864</td>\n",
       "      <td>Advanced</td>\n",
       "      <td>657</td>\n",
       "    </tr>\n",
       "    <tr>\n",
       "      <th>1</th>\n",
       "      <td>1</td>\n",
       "      <td>mvc-scaffolding</td>\n",
       "      <td>2017-06-27 16:26:52</td>\n",
       "      <td>mvc-scaffolding</td>\n",
       "      <td>2255</td>\n",
       "      <td>2017-07-12</td>\n",
       "      <td>864</td>\n",
       "      <td>Advanced</td>\n",
       "      <td>1726</td>\n",
       "    </tr>\n",
       "    <tr>\n",
       "      <th>2</th>\n",
       "      <td>1</td>\n",
       "      <td>mvc-scaffolding</td>\n",
       "      <td>2017-06-27 16:26:52</td>\n",
       "      <td>mvc-scaffolding</td>\n",
       "      <td>5749</td>\n",
       "      <td>2017-09-13</td>\n",
       "      <td>864</td>\n",
       "      <td>Advanced</td>\n",
       "      <td>843</td>\n",
       "    </tr>\n",
       "    <tr>\n",
       "      <th>3</th>\n",
       "      <td>1</td>\n",
       "      <td>mvc-scaffolding</td>\n",
       "      <td>2017-06-27 16:26:52</td>\n",
       "      <td>mvc-scaffolding</td>\n",
       "      <td>5749</td>\n",
       "      <td>2017-09-14</td>\n",
       "      <td>864</td>\n",
       "      <td>Advanced</td>\n",
       "      <td>1161</td>\n",
       "    </tr>\n",
       "    <tr>\n",
       "      <th>4</th>\n",
       "      <td>1</td>\n",
       "      <td>mvc-scaffolding</td>\n",
       "      <td>2017-06-27 16:26:52</td>\n",
       "      <td>mvc-scaffolding</td>\n",
       "      <td>6974</td>\n",
       "      <td>2017-09-26</td>\n",
       "      <td>864</td>\n",
       "      <td>Advanced</td>\n",
       "      <td>592</td>\n",
       "    </tr>\n",
       "  </tbody>\n",
       "</table>\n",
       "</div>"
      ],
      "text/plain": [
       "   user_handle_x     interest_tag        date_followed        course_id  \\\n",
       "0              1  mvc-scaffolding  2017-06-27 16:26:52  mvc-scaffolding   \n",
       "1              1  mvc-scaffolding  2017-06-27 16:26:52  mvc-scaffolding   \n",
       "2              1  mvc-scaffolding  2017-06-27 16:26:52  mvc-scaffolding   \n",
       "3              1  mvc-scaffolding  2017-06-27 16:26:52  mvc-scaffolding   \n",
       "4              1  mvc-scaffolding  2017-06-27 16:26:52  mvc-scaffolding   \n",
       "\n",
       "   user_handle_y   view_date  author_handle     level  view_time_seconds  \n",
       "0            418  2017-06-21            864  Advanced                657  \n",
       "1           2255  2017-07-12            864  Advanced               1726  \n",
       "2           5749  2017-09-13            864  Advanced                843  \n",
       "3           5749  2017-09-14            864  Advanced               1161  \n",
       "4           6974  2017-09-26            864  Advanced                592  "
      ]
     },
     "execution_count": 21,
     "metadata": {},
     "output_type": "execute_result"
    }
   ],
   "source": [
    "combined_course_data_with_views.head(5)"
   ]
  },
  {
   "cell_type": "code",
   "execution_count": 22,
   "metadata": {
    "collapsed": true
   },
   "outputs": [],
   "source": [
    "crosstab_courses = combined_course_data_with_views.pivot_table(values = 'view_time_seconds',index='user_handle_x',columns = 'course_id',fill_value = 0)"
   ]
  },
  {
   "cell_type": "code",
   "execution_count": 79,
   "metadata": {},
   "outputs": [
    {
     "data": {
      "text/html": [
       "<div>\n",
       "<style>\n",
       "    .dataframe thead tr:only-child th {\n",
       "        text-align: right;\n",
       "    }\n",
       "\n",
       "    .dataframe thead th {\n",
       "        text-align: left;\n",
       "    }\n",
       "\n",
       "    .dataframe tbody tr th {\n",
       "        vertical-align: top;\n",
       "    }\n",
       "</style>\n",
       "<table border=\"1\" class=\"dataframe\">\n",
       "  <thead>\n",
       "    <tr style=\"text-align: right;\">\n",
       "      <th>course_id</th>\n",
       "      <th>add-dev-console-to-your-app-with-javascript-increase-productivity</th>\n",
       "      <th>advanced-angular-workflows</th>\n",
       "      <th>advanced-javascript</th>\n",
       "      <th>advanced-js-jquery-pure-dom-scripting-fundamentals</th>\n",
       "      <th>angular-1-3</th>\n",
       "      <th>angular-2-animations</th>\n",
       "      <th>angular-2-end-to-end</th>\n",
       "      <th>angular-2-first-look</th>\n",
       "      <th>angular-2-forms</th>\n",
       "      <th>angular-2-getting-started</th>\n",
       "      <th>...</th>\n",
       "      <th>useful-jquery-plugins</th>\n",
       "      <th>using-typescript-large-angularjs-apps</th>\n",
       "      <th>vanilla-web-components-practical-guide</th>\n",
       "      <th>vuejs-getting-started</th>\n",
       "      <th>web-apps-progressive-getting-started</th>\n",
       "      <th>web-development</th>\n",
       "      <th>web-platform</th>\n",
       "      <th>web-ui-architecture</th>\n",
       "      <th>webgl-threejs-fundamentals</th>\n",
       "      <th>webpagetest-deep-dive</th>\n",
       "    </tr>\n",
       "    <tr>\n",
       "      <th>user_handle_x</th>\n",
       "      <th></th>\n",
       "      <th></th>\n",
       "      <th></th>\n",
       "      <th></th>\n",
       "      <th></th>\n",
       "      <th></th>\n",
       "      <th></th>\n",
       "      <th></th>\n",
       "      <th></th>\n",
       "      <th></th>\n",
       "      <th></th>\n",
       "      <th></th>\n",
       "      <th></th>\n",
       "      <th></th>\n",
       "      <th></th>\n",
       "      <th></th>\n",
       "      <th></th>\n",
       "      <th></th>\n",
       "      <th></th>\n",
       "      <th></th>\n",
       "      <th></th>\n",
       "    </tr>\n",
       "  </thead>\n",
       "  <tbody>\n",
       "    <tr>\n",
       "      <th>1</th>\n",
       "      <td>1493.8</td>\n",
       "      <td>851.75</td>\n",
       "      <td>2748.746032</td>\n",
       "      <td>1302.649123</td>\n",
       "      <td>194.941176</td>\n",
       "      <td>1285.25</td>\n",
       "      <td>1002.933635</td>\n",
       "      <td>1764.448276</td>\n",
       "      <td>1663.488688</td>\n",
       "      <td>1664.5</td>\n",
       "      <td>...</td>\n",
       "      <td>2235</td>\n",
       "      <td>1653.428571</td>\n",
       "      <td>1295.257143</td>\n",
       "      <td>1621.47549</td>\n",
       "      <td>1364.932203</td>\n",
       "      <td>2201.625</td>\n",
       "      <td>338</td>\n",
       "      <td>2698.75</td>\n",
       "      <td>1410.509434</td>\n",
       "      <td>413</td>\n",
       "    </tr>\n",
       "    <tr>\n",
       "      <th>3</th>\n",
       "      <td>1493.8</td>\n",
       "      <td>851.75</td>\n",
       "      <td>2748.746032</td>\n",
       "      <td>1302.649123</td>\n",
       "      <td>194.941176</td>\n",
       "      <td>1285.25</td>\n",
       "      <td>1002.933635</td>\n",
       "      <td>1764.448276</td>\n",
       "      <td>1663.488688</td>\n",
       "      <td>1664.5</td>\n",
       "      <td>...</td>\n",
       "      <td>2235</td>\n",
       "      <td>1653.428571</td>\n",
       "      <td>1295.257143</td>\n",
       "      <td>1621.47549</td>\n",
       "      <td>1364.932203</td>\n",
       "      <td>2201.625</td>\n",
       "      <td>338</td>\n",
       "      <td>2698.75</td>\n",
       "      <td>1410.509434</td>\n",
       "      <td>413</td>\n",
       "    </tr>\n",
       "    <tr>\n",
       "      <th>10</th>\n",
       "      <td>1493.8</td>\n",
       "      <td>851.75</td>\n",
       "      <td>2748.746032</td>\n",
       "      <td>1302.649123</td>\n",
       "      <td>0.000000</td>\n",
       "      <td>0.00</td>\n",
       "      <td>0.000000</td>\n",
       "      <td>0.000000</td>\n",
       "      <td>0.000000</td>\n",
       "      <td>0.0</td>\n",
       "      <td>...</td>\n",
       "      <td>2235</td>\n",
       "      <td>0.000000</td>\n",
       "      <td>1295.257143</td>\n",
       "      <td>1621.47549</td>\n",
       "      <td>1364.932203</td>\n",
       "      <td>0.000</td>\n",
       "      <td>0</td>\n",
       "      <td>2698.75</td>\n",
       "      <td>1410.509434</td>\n",
       "      <td>413</td>\n",
       "    </tr>\n",
       "    <tr>\n",
       "      <th>13</th>\n",
       "      <td>1493.8</td>\n",
       "      <td>851.75</td>\n",
       "      <td>2748.746032</td>\n",
       "      <td>1302.649123</td>\n",
       "      <td>194.941176</td>\n",
       "      <td>1285.25</td>\n",
       "      <td>1002.933635</td>\n",
       "      <td>1764.448276</td>\n",
       "      <td>1663.488688</td>\n",
       "      <td>1664.5</td>\n",
       "      <td>...</td>\n",
       "      <td>2235</td>\n",
       "      <td>1653.428571</td>\n",
       "      <td>1295.257143</td>\n",
       "      <td>1621.47549</td>\n",
       "      <td>1364.932203</td>\n",
       "      <td>0.000</td>\n",
       "      <td>0</td>\n",
       "      <td>2698.75</td>\n",
       "      <td>1410.509434</td>\n",
       "      <td>413</td>\n",
       "    </tr>\n",
       "    <tr>\n",
       "      <th>15</th>\n",
       "      <td>1493.8</td>\n",
       "      <td>851.75</td>\n",
       "      <td>2748.746032</td>\n",
       "      <td>1302.649123</td>\n",
       "      <td>194.941176</td>\n",
       "      <td>1285.25</td>\n",
       "      <td>1002.933635</td>\n",
       "      <td>1764.448276</td>\n",
       "      <td>1663.488688</td>\n",
       "      <td>1664.5</td>\n",
       "      <td>...</td>\n",
       "      <td>2235</td>\n",
       "      <td>1653.428571</td>\n",
       "      <td>1295.257143</td>\n",
       "      <td>1621.47549</td>\n",
       "      <td>1364.932203</td>\n",
       "      <td>2201.625</td>\n",
       "      <td>338</td>\n",
       "      <td>2698.75</td>\n",
       "      <td>1410.509434</td>\n",
       "      <td>413</td>\n",
       "    </tr>\n",
       "  </tbody>\n",
       "</table>\n",
       "<p>5 rows × 207 columns</p>\n",
       "</div>"
      ],
      "text/plain": [
       "course_id      add-dev-console-to-your-app-with-javascript-increase-productivity  \\\n",
       "user_handle_x                                                                      \n",
       "1                                                         1493.8                   \n",
       "3                                                         1493.8                   \n",
       "10                                                        1493.8                   \n",
       "13                                                        1493.8                   \n",
       "15                                                        1493.8                   \n",
       "\n",
       "course_id      advanced-angular-workflows  advanced-javascript  \\\n",
       "user_handle_x                                                    \n",
       "1                                  851.75          2748.746032   \n",
       "3                                  851.75          2748.746032   \n",
       "10                                 851.75          2748.746032   \n",
       "13                                 851.75          2748.746032   \n",
       "15                                 851.75          2748.746032   \n",
       "\n",
       "course_id      advanced-js-jquery-pure-dom-scripting-fundamentals  \\\n",
       "user_handle_x                                                       \n",
       "1                                                    1302.649123    \n",
       "3                                                    1302.649123    \n",
       "10                                                   1302.649123    \n",
       "13                                                   1302.649123    \n",
       "15                                                   1302.649123    \n",
       "\n",
       "course_id      angular-1-3  angular-2-animations  angular-2-end-to-end  \\\n",
       "user_handle_x                                                            \n",
       "1               194.941176               1285.25           1002.933635   \n",
       "3               194.941176               1285.25           1002.933635   \n",
       "10                0.000000                  0.00              0.000000   \n",
       "13              194.941176               1285.25           1002.933635   \n",
       "15              194.941176               1285.25           1002.933635   \n",
       "\n",
       "course_id      angular-2-first-look  angular-2-forms  \\\n",
       "user_handle_x                                          \n",
       "1                       1764.448276      1663.488688   \n",
       "3                       1764.448276      1663.488688   \n",
       "10                         0.000000         0.000000   \n",
       "13                      1764.448276      1663.488688   \n",
       "15                      1764.448276      1663.488688   \n",
       "\n",
       "course_id      angular-2-getting-started          ...            \\\n",
       "user_handle_x                                     ...             \n",
       "1                                 1664.5          ...             \n",
       "3                                 1664.5          ...             \n",
       "10                                   0.0          ...             \n",
       "13                                1664.5          ...             \n",
       "15                                1664.5          ...             \n",
       "\n",
       "course_id      useful-jquery-plugins  using-typescript-large-angularjs-apps  \\\n",
       "user_handle_x                                                                 \n",
       "1                               2235                            1653.428571   \n",
       "3                               2235                            1653.428571   \n",
       "10                              2235                               0.000000   \n",
       "13                              2235                            1653.428571   \n",
       "15                              2235                            1653.428571   \n",
       "\n",
       "course_id      vanilla-web-components-practical-guide  vuejs-getting-started  \\\n",
       "user_handle_x                                                                  \n",
       "1                                         1295.257143             1621.47549   \n",
       "3                                         1295.257143             1621.47549   \n",
       "10                                        1295.257143             1621.47549   \n",
       "13                                        1295.257143             1621.47549   \n",
       "15                                        1295.257143             1621.47549   \n",
       "\n",
       "course_id      web-apps-progressive-getting-started  web-development  \\\n",
       "user_handle_x                                                          \n",
       "1                                       1364.932203         2201.625   \n",
       "3                                       1364.932203         2201.625   \n",
       "10                                      1364.932203            0.000   \n",
       "13                                      1364.932203            0.000   \n",
       "15                                      1364.932203         2201.625   \n",
       "\n",
       "course_id      web-platform  web-ui-architecture  webgl-threejs-fundamentals  \\\n",
       "user_handle_x                                                                  \n",
       "1                       338              2698.75                 1410.509434   \n",
       "3                       338              2698.75                 1410.509434   \n",
       "10                        0              2698.75                 1410.509434   \n",
       "13                        0              2698.75                 1410.509434   \n",
       "15                      338              2698.75                 1410.509434   \n",
       "\n",
       "course_id      webpagetest-deep-dive  \n",
       "user_handle_x                         \n",
       "1                                413  \n",
       "3                                413  \n",
       "10                               413  \n",
       "13                               413  \n",
       "15                               413  \n",
       "\n",
       "[5 rows x 207 columns]"
      ]
     },
     "execution_count": 79,
     "metadata": {},
     "output_type": "execute_result"
    }
   ],
   "source": [
    "crosstab_courses.head(5)"
   ]
  },
  {
   "cell_type": "code",
   "execution_count": 80,
   "metadata": {},
   "outputs": [
    {
     "data": {
      "text/plain": [
       "(4386, 207)"
      ]
     },
     "execution_count": 80,
     "metadata": {},
     "output_type": "execute_result"
    }
   ],
   "source": [
    "crosstab_courses.shape"
   ]
  },
  {
   "cell_type": "code",
   "execution_count": 81,
   "metadata": {
    "collapsed": true
   },
   "outputs": [],
   "source": [
    "X = crosstab_courses.values.T\n",
    "#transposing the matrix"
   ]
  },
  {
   "cell_type": "code",
   "execution_count": 82,
   "metadata": {},
   "outputs": [
    {
     "data": {
      "text/plain": [
       "(207, 4386)"
      ]
     },
     "execution_count": 82,
     "metadata": {},
     "output_type": "execute_result"
    }
   ],
   "source": [
    "X.shape"
   ]
  },
  {
   "cell_type": "code",
   "execution_count": 83,
   "metadata": {
    "collapsed": true
   },
   "outputs": [],
   "source": [
    "SVD_courses = TruncatedSVD(n_components = 12, random_state = 17)\n",
    "resultant_matrix_courses = SVD_courses.fit_transform(X)"
   ]
  },
  {
   "cell_type": "code",
   "execution_count": 84,
   "metadata": {},
   "outputs": [
    {
     "data": {
      "text/plain": [
       "(207, 12)"
      ]
     },
     "execution_count": 84,
     "metadata": {},
     "output_type": "execute_result"
    }
   ],
   "source": [
    "resultant_matrix_courses.shape"
   ]
  },
  {
   "cell_type": "code",
   "execution_count": 85,
   "metadata": {
    "collapsed": true
   },
   "outputs": [],
   "source": [
    "corr_mat_courses = np.corrcoef(resultant_matrix_courses)"
   ]
  },
  {
   "cell_type": "code",
   "execution_count": 86,
   "metadata": {},
   "outputs": [
    {
     "data": {
      "text/plain": [
       "(207, 207)"
      ]
     },
     "execution_count": 86,
     "metadata": {},
     "output_type": "execute_result"
    }
   ],
   "source": [
    "corr_mat_courses.shape"
   ]
  },
  {
   "cell_type": "code",
   "execution_count": 87,
   "metadata": {
    "collapsed": true
   },
   "outputs": [],
   "source": [
    "courses = crosstab_courses.columns\n",
    "course_list = list(courses)"
   ]
  },
  {
   "cell_type": "code",
   "execution_count": 88,
   "metadata": {
    "collapsed": true
   },
   "outputs": [],
   "source": [
    "web_development = course_list.index('web-development')"
   ]
  },
  {
   "cell_type": "code",
   "execution_count": 89,
   "metadata": {},
   "outputs": [
    {
     "name": "stdout",
     "output_type": "stream",
     "text": [
      "202\n"
     ]
    }
   ],
   "source": [
    "print(web_development )"
   ]
  },
  {
   "cell_type": "code",
   "execution_count": 90,
   "metadata": {
    "collapsed": true
   },
   "outputs": [],
   "source": [
    "corr_web_development = corr_mat_courses[web_development]"
   ]
  },
  {
   "cell_type": "code",
   "execution_count": 91,
   "metadata": {},
   "outputs": [
    {
     "data": {
      "text/plain": [
       "['aspdotnet-mvc3',\n",
       " 'aspdotnet-mvc3-intro',\n",
       " 'aspnet-core-mvc-request-life-cycle',\n",
       " 'full-stack-dot-net-developer-fundamentals',\n",
       " 'getting-started-aspdotnet-mvcservice-stack-bootstrap',\n",
       " 'laravel-php-framework-getting-started-the-basics',\n",
       " 'mvc4',\n",
       " 'parent-child-data-ef-mvc-knockout-ajax',\n",
       " 'web-development',\n",
       " 'web-platform']"
      ]
     },
     "execution_count": 91,
     "metadata": {},
     "output_type": "execute_result"
    }
   ],
   "source": [
    "list(courses[(corr_web_development< 1.0) & (corr_web_development > 0.7)])"
   ]
  },
  {
   "cell_type": "code",
   "execution_count": 92,
   "metadata": {
    "collapsed": true
   },
   "outputs": [],
   "source": [
    "def similar_courses(course_name,course_list,corr_mat):\n",
    "    course_name = course_list.index(course_name)\n",
    "    corr_course_name = corr_mat[course_name]\n",
    "    print(\"Similar Courses:\")\n",
    "    return list(courses[(corr_course_name< 1.0) & (corr_course_name > 0.8)])"
   ]
  },
  {
   "cell_type": "code",
   "execution_count": 93,
   "metadata": {},
   "outputs": [
    {
     "name": "stdout",
     "output_type": "stream",
     "text": [
      "Similar Courses:\n"
     ]
    },
    {
     "data": {
      "text/plain": [
       "['aspdotnet-core-1-0-fundamentals',\n",
       " 'aspdotnet-mvc2',\n",
       " 'build-application-framework-aspdotnet-mvc-5',\n",
       " 'laravel-php-framework-getting-started-the-basics',\n",
       " 'microsoft-web-technology-comparison',\n",
       " 'parent-child-data-ef-mvc-knockout-ajax',\n",
       " 'rebuilding-web-forms-applications-mvc',\n",
       " 'web-development',\n",
       " 'web-platform']"
      ]
     },
     "execution_count": 93,
     "metadata": {},
     "output_type": "execute_result"
    }
   ],
   "source": [
    "similar_courses('mvc4',course_list,corr_mat_courses)"
   ]
  },
  {
   "cell_type": "code",
   "execution_count": 95,
   "metadata": {},
   "outputs": [
    {
     "name": "stdout",
     "output_type": "stream",
     "text": [
      "enter the courseweb-platform\n"
     ]
    }
   ],
   "source": [
    "course = str(input(\"enter the course\") )"
   ]
  },
  {
   "cell_type": "code",
   "execution_count": 96,
   "metadata": {},
   "outputs": [
    {
     "name": "stdout",
     "output_type": "stream",
     "text": [
      "Similar Courses:\n"
     ]
    },
    {
     "data": {
      "text/plain": [
       "['aspdotnet-bestpractices-models',\n",
       " 'aspdotnet-core-1-0-fundamentals',\n",
       " 'aspdotnet-mvc2',\n",
       " 'aspdotnet-mvc3',\n",
       " 'aspdotnet-mvc3-intro',\n",
       " 'automated-aspdotnet-mvc',\n",
       " 'build-application-framework-aspdotnet-mvc-5',\n",
       " 'getting-started-aspdotnet-mvcservice-stack-bootstrap',\n",
       " 'html-helper-library-aspdotnet-mvc5',\n",
       " 'laravel-php-framework-getting-started-the-basics',\n",
       " 'microsoft-web-technology-comparison',\n",
       " 'mvc4',\n",
       " 'mvc4-building',\n",
       " 'parent-child-data-ef-mvc-knockout-ajax',\n",
       " 'phoenix-getting-started',\n",
       " 'web-development',\n",
       " 'web-platform']"
      ]
     },
     "execution_count": 96,
     "metadata": {},
     "output_type": "execute_result"
    }
   ],
   "source": [
    "similar_courses(course,course_list,corr_mat_courses)"
   ]
  },
  {
   "cell_type": "code",
   "execution_count": 97,
   "metadata": {
    "collapsed": true
   },
   "outputs": [],
   "source": [
    "user_interests = frame"
   ]
  },
  {
   "cell_type": "code",
   "execution_count": 98,
   "metadata": {
    "collapsed": true
   },
   "outputs": [],
   "source": [
    "user_interests = user_interests.drop('date_followed', axis=1)"
   ]
  },
  {
   "cell_type": "code",
   "execution_count": 99,
   "metadata": {
    "collapsed": true
   },
   "outputs": [],
   "source": [
    "courses = pd.read_csv('/Users/vishaladdala/Desktop/GooglePrep/data_files_ml_engineer/course_tags.csv')"
   ]
  },
  {
   "cell_type": "code",
   "execution_count": 100,
   "metadata": {},
   "outputs": [
    {
     "data": {
      "text/html": [
       "<div>\n",
       "<style>\n",
       "    .dataframe thead tr:only-child th {\n",
       "        text-align: right;\n",
       "    }\n",
       "\n",
       "    .dataframe thead th {\n",
       "        text-align: left;\n",
       "    }\n",
       "\n",
       "    .dataframe tbody tr th {\n",
       "        vertical-align: top;\n",
       "    }\n",
       "</style>\n",
       "<table border=\"1\" class=\"dataframe\">\n",
       "  <thead>\n",
       "    <tr style=\"text-align: right;\">\n",
       "      <th></th>\n",
       "      <th>course_id</th>\n",
       "      <th>course_tags</th>\n",
       "    </tr>\n",
       "  </thead>\n",
       "  <tbody>\n",
       "    <tr>\n",
       "      <th>0</th>\n",
       "      <td>12-principles-animation-toon-boom-harmony-1475</td>\n",
       "      <td>2d-animation</td>\n",
       "    </tr>\n",
       "    <tr>\n",
       "      <th>1</th>\n",
       "      <td>2d-racing-game-series-unity-5-1312</td>\n",
       "      <td>game-design</td>\n",
       "    </tr>\n",
       "    <tr>\n",
       "      <th>2</th>\n",
       "      <td>2d-racing-games-unity-volume-2-1286</td>\n",
       "      <td>game-art</td>\n",
       "    </tr>\n",
       "    <tr>\n",
       "      <th>3</th>\n",
       "      <td>2d-racing-games-unity-volume-2-1286</td>\n",
       "      <td>digital-painting</td>\n",
       "    </tr>\n",
       "    <tr>\n",
       "      <th>4</th>\n",
       "      <td>2d-racing-games-unity-volume-2-1286</td>\n",
       "      <td>image-editing</td>\n",
       "    </tr>\n",
       "  </tbody>\n",
       "</table>\n",
       "</div>"
      ],
      "text/plain": [
       "                                        course_id       course_tags\n",
       "0  12-principles-animation-toon-boom-harmony-1475      2d-animation\n",
       "1              2d-racing-game-series-unity-5-1312       game-design\n",
       "2             2d-racing-games-unity-volume-2-1286          game-art\n",
       "3             2d-racing-games-unity-volume-2-1286  digital-painting\n",
       "4             2d-racing-games-unity-volume-2-1286     image-editing"
      ]
     },
     "execution_count": 100,
     "metadata": {},
     "output_type": "execute_result"
    }
   ],
   "source": [
    "courses.head()"
   ]
  },
  {
   "cell_type": "code",
   "execution_count": 101,
   "metadata": {
    "collapsed": true
   },
   "outputs": [],
   "source": [
    "courses = courses.rename(index=str, columns={\"course_tags\": \"interest_tag\"})"
   ]
  },
  {
   "cell_type": "code",
   "execution_count": 102,
   "metadata": {
    "collapsed": true
   },
   "outputs": [],
   "source": [
    "combined_course_data = pd.merge(user_interests,courses,on = 'interest_tag')"
   ]
  },
  {
   "cell_type": "code",
   "execution_count": 103,
   "metadata": {
    "collapsed": true
   },
   "outputs": [],
   "source": [
    "assessment_scores = pd.read_csv('/Users/vishaladdala/Desktop/GooglePrep/data_files_ml_engineer/user_assessment_scores.csv')"
   ]
  },
  {
   "cell_type": "code",
   "execution_count": 104,
   "metadata": {
    "collapsed": true
   },
   "outputs": [],
   "source": [
    "assessment_scores = assessment_scores.drop('user_assessment_date', axis=1)"
   ]
  },
  {
   "cell_type": "code",
   "execution_count": 105,
   "metadata": {
    "collapsed": true
   },
   "outputs": [],
   "source": [
    "combined_course_data_sample = combined_course_data.head(1000000)"
   ]
  },
  {
   "cell_type": "code",
   "execution_count": 106,
   "metadata": {
    "collapsed": true
   },
   "outputs": [],
   "source": [
    "combined_course_data_with_views = pd.merge(combined_course_data_sample,view_times,on = 'user_handle')"
   ]
  },
  {
   "cell_type": "code",
   "execution_count": 107,
   "metadata": {
    "collapsed": true
   },
   "outputs": [],
   "source": [
    "crosstab_users = combined_course_data_with_views.pivot_table(values = 'view_time_seconds',index='course_id_x',columns = 'user_handle',fill_value = 0)"
   ]
  },
  {
   "cell_type": "code",
   "execution_count": 108,
   "metadata": {
    "collapsed": true
   },
   "outputs": [],
   "source": [
    "Y = crosstab_users"
   ]
  },
  {
   "cell_type": "code",
   "execution_count": 109,
   "metadata": {
    "collapsed": true
   },
   "outputs": [],
   "source": [
    "SVD_users = TruncatedSVD(n_components = 12, random_state = 17)\n",
    "resultant_matrix_users = SVD_users.fit_transform(Y)"
   ]
  },
  {
   "cell_type": "code",
   "execution_count": 110,
   "metadata": {},
   "outputs": [
    {
     "data": {
      "text/plain": [
       "(237, 12)"
      ]
     },
     "execution_count": 110,
     "metadata": {},
     "output_type": "execute_result"
    }
   ],
   "source": [
    "resultant_matrix_users.shape"
   ]
  },
  {
   "cell_type": "code",
   "execution_count": 111,
   "metadata": {
    "collapsed": true
   },
   "outputs": [],
   "source": [
    "corr_mat_users = np.corrcoef(resultant_matrix_users)"
   ]
  },
  {
   "cell_type": "code",
   "execution_count": 112,
   "metadata": {
    "collapsed": true
   },
   "outputs": [],
   "source": [
    "users = crosstab_users.columns\n",
    "users_list = list(users)"
   ]
  },
  {
   "cell_type": "code",
   "execution_count": 113,
   "metadata": {},
   "outputs": [
    {
     "name": "stdout",
     "output_type": "stream",
     "text": [
      "0\n"
     ]
    }
   ],
   "source": [
    "user_one = users_list.index(1)\n",
    "print(user_one)"
   ]
  },
  {
   "cell_type": "code",
   "execution_count": 114,
   "metadata": {
    "collapsed": true
   },
   "outputs": [],
   "source": [
    "corr_user_one = corr_mat_users[user_one]"
   ]
  },
  {
   "cell_type": "code",
   "execution_count": 115,
   "metadata": {},
   "outputs": [
    {
     "name": "stderr",
     "output_type": "stream",
     "text": [
      "/Users/vishaladdala/anaconda/lib/python3.6/site-packages/pandas/core/indexes/base.py:1650: VisibleDeprecationWarning: boolean index did not match indexed array along dimension 0; dimension is 4528 but corresponding boolean dimension is 237\n",
      "  result = getitem(key)\n"
     ]
    },
    {
     "data": {
      "text/plain": [
       "[117,\n",
       " 136,\n",
       " 140,\n",
       " 146,\n",
       " 190,\n",
       " 210,\n",
       " 212,\n",
       " 214,\n",
       " 231,\n",
       " 239,\n",
       " 252,\n",
       " 306,\n",
       " 310,\n",
       " 318,\n",
       " 324,\n",
       " 325,\n",
       " 327,\n",
       " 328,\n",
       " 331,\n",
       " 332,\n",
       " 335,\n",
       " 354,\n",
       " 412,\n",
       " 430,\n",
       " 468,\n",
       " 483]"
      ]
     },
     "execution_count": 115,
     "metadata": {},
     "output_type": "execute_result"
    }
   ],
   "source": [
    "list(users[(corr_user_one< 1.0) & (corr_user_one > 0.991)])"
   ]
  },
  {
   "cell_type": "code",
   "execution_count": 119,
   "metadata": {
    "collapsed": true
   },
   "outputs": [],
   "source": [
    "def similar_users(user_handle,users,users_list,corr_mat):\n",
    "    user = users_list.index(user_handle)\n",
    "    corr_user = corr_mat[user]\n",
    "    print(\"Similar Users:\")\n",
    "    return list(users[(corr_user< 1.0) & (corr_user > 0.991)])"
   ]
  },
  {
   "cell_type": "code",
   "execution_count": 124,
   "metadata": {},
   "outputs": [
    {
     "name": "stdout",
     "output_type": "stream",
     "text": [
      "enter the user_handle10\n"
     ]
    }
   ],
   "source": [
    "user = int(input(\"enter the user_handle\") )"
   ]
  },
  {
   "cell_type": "code",
   "execution_count": 125,
   "metadata": {},
   "outputs": [
    {
     "name": "stdout",
     "output_type": "stream",
     "text": [
      "Similar Users:\n",
      "[10, 117, 136, 140, 146, 190, 210, 212, 214, 231, 239, 252, 306, 310, 318, 324, 325, 327, 328, 331, 332, 335, 354, 412, 430, 468, 483]\n"
     ]
    },
    {
     "name": "stderr",
     "output_type": "stream",
     "text": [
      "/Users/vishaladdala/anaconda/lib/python3.6/site-packages/pandas/core/indexes/base.py:1650: VisibleDeprecationWarning: boolean index did not match indexed array along dimension 0; dimension is 4528 but corresponding boolean dimension is 237\n",
      "  result = getitem(key)\n"
     ]
    }
   ],
   "source": [
    "similar_users_list = similar_users(user,users,users_list,corr_mat_users)\n",
    "print(similar_users_list)"
   ]
  },
  {
   "cell_type": "code",
   "execution_count": null,
   "metadata": {
    "collapsed": true
   },
   "outputs": [],
   "source": []
  }
 ],
 "metadata": {
  "kernelspec": {
   "display_name": "Python 3",
   "language": "python",
   "name": "python3"
  },
  "language_info": {
   "codemirror_mode": {
    "name": "ipython",
    "version": 3
   },
   "file_extension": ".py",
   "mimetype": "text/x-python",
   "name": "python",
   "nbconvert_exporter": "python",
   "pygments_lexer": "ipython3",
   "version": "3.6.2"
  }
 },
 "nbformat": 4,
 "nbformat_minor": 2
}
